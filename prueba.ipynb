{
 "cells": [
  {
   "cell_type": "code",
   "execution_count": 2,
   "metadata": {},
   "outputs": [],
   "source": [
    "\"\"\"\n",
    "Este módulo ya predice los datos.\n",
    "\"\"\"\n",
    "\n",
    "import os\n",
    "import pickle\n",
    "import warnings\n",
    "from datetime import datetime\n",
    "import pandas as pd\n",
    "\n",
    "# Suprime todos los UserWarnings\n",
    "warnings.filterwarnings(\"ignore\", category=UserWarning)\n",
    "\n",
    "def predict_pipeline():\n",
    "    \"\"\"\n",
    "    Fórmiula del módulo ya predice los datos.\n",
    "    \"\"\"\n",
    "    project_path = os.getcwd()\n",
    "\n",
    "    # Cargar el pipeline entrenado\n",
    "    with open(os.path.join(project_path, \"artifacts\", \"pipeline_final.pkl\"), 'rb') as f:\n",
    "        smartgrid_pipeline = pickle.load(f)\n",
    "\n",
    "    # Cargar los datos de prueba\n",
    "    test_data = pd.read_csv(os.path.join(project_path, 'data', 'processed', 'test_dataset.csv'))\n",
    "\n",
    "    # Separar las características (X) y la variable objetivo (Y)\n",
    "    x_features_test = test_data.drop(labels=['stabf'], axis=1)\n",
    "\n",
    "    # Realizar la predicción\n",
    "    y_pred = smartgrid_pipeline.predict(x_features_test)\n",
    "\n",
    "    # Directorio donde se guardarán las predicciones\n",
    "    PREDICTIONS_DIR = os.path.join(os.getcwd(), 'data', 'predictions', 'predict_dataset')\n",
    "\n",
    "    # Crear el directorio si no existe\n",
    "    if not os.path.exists(PREDICTIONS_DIR):\n",
    "        os.makedirs(PREDICTIONS_DIR)\n",
    "\n",
    "    # Crear nombre de archivo con timestamp\n",
    "    timestamp = datetime.now().strftime('%Y-%m-%d-%H-%M-%S')\n",
    "    PREDICTIONS_FILE = f'{PREDICTIONS_DIR}/{timestamp}.csv'\n",
    "\n",
    "    # Guardar las predicciones en un archivo CSV\n",
    "    predictions_df = pd.DataFrame(y_pred, columns=['stabf_prediction'])\n",
    "    predictions_df.to_csv(PREDICTIONS_FILE, index=False)\n",
    "\n",
    "predict_pipeline()"
   ]
  }
 ],
 "metadata": {
  "kernelspec": {
   "display_name": "base",
   "language": "python",
   "name": "python3"
  },
  "language_info": {
   "codemirror_mode": {
    "name": "ipython",
    "version": 3
   },
   "file_extension": ".py",
   "mimetype": "text/x-python",
   "name": "python",
   "nbconvert_exporter": "python",
   "pygments_lexer": "ipython3",
   "version": "3.12.4"
  }
 },
 "nbformat": 4,
 "nbformat_minor": 2
}
